{
 "cells": [
  {
   "cell_type": "markdown",
   "metadata": {},
   "source": [
    "### Name: Gabriel Ohaike\n",
    "### Project#1 "
   ]
  },
  {
   "cell_type": "markdown",
   "metadata": {},
   "source": [
    "#### **Import that Pandas package. We will use to hold the results of the queries, print Pandas tables, and print simple data visualizations.**"
   ]
  },
  {
   "cell_type": "code",
   "execution_count": 254,
   "metadata": {},
   "outputs": [],
   "source": [
    "import numpy as np\n",
    "import pandas as pd\n",
    "import matplotlib.pyplot as plt\n",
    "import seaborn as sns\n",
    "\n",
    "%matplotlib inline"
   ]
  },
  {
   "cell_type": "markdown",
   "metadata": {},
   "source": [
    "#### **Before we answer the project questions, Lets take a look at some of the important factors that would help in making an informed decision**"
   ]
  },
  {
   "cell_type": "markdown",
   "metadata": {},
   "source": [
    "- **Exploring the GoBike dataset reveals that there are a total of 983,648 trips**"
   ]
  },
  {
   "cell_type": "code",
   "execution_count": 27,
   "metadata": {},
   "outputs": [
    {
     "name": "stdout",
     "output_type": "stream",
     "text": [
      "Waiting on bqjob_r6302a1a4b50635d3_00000172778ec3d3_1 ... (0s) Current status: DONE   \n",
      "+------------+\n",
      "| total_trip |\n",
      "+------------+\n",
      "|     983648 |\n",
      "+------------+\n"
     ]
    }
   ],
   "source": [
    "! bq query --use_legacy_sql=FALSE 'SELECT count(*) as total_trip FROM `bigquery-public-data.san_francisco.bikeshare_trips`'"
   ]
  },
  {
   "cell_type": "markdown",
   "metadata": {},
   "source": [
    "**Are there more customers or subscribers making these trips?**\n",
    "\n",
    "##### *Further breakdown on the trip showed that out of 983,648 trips, 136,809 which represent 13.9% are customers while 846,839 which represents 86.1% are subscribers*"
   ]
  },
  {
   "cell_type": "code",
   "execution_count": 77,
   "metadata": {},
   "outputs": [
    {
     "name": "stdout",
     "output_type": "stream",
     "text": [
      "Waiting on bqjob_r7916783c906510fd_00000172786a5556_1 ... (0s) Current status: DONE   \n",
      "+-----------------+--------+\n",
      "| subscriber_type | count  |\n",
      "+-----------------+--------+\n",
      "| Customer        | 136809 |\n",
      "| Subscriber      | 846839 |\n",
      "+-----------------+--------+\n"
     ]
    }
   ],
   "source": [
    "! bq query --use_legacy_sql=FALSE 'SELECT subscriber_type, COUNT(*) as count FROM `bigquery-public-data.san_francisco.bikeshare_trips` GROUP BY subscriber_type'"
   ]
  },
  {
   "cell_type": "code",
   "execution_count": null,
   "metadata": {},
   "outputs": [],
   "source": []
  },
  {
   "cell_type": "markdown",
   "metadata": {},
   "source": [
    "### 1) **This brings us to our first project question**\n",
    "\n",
    "- #### *What are the 5 most popular trips that you would call \"commuter trips\"?*"
   ]
  },
  {
   "cell_type": "markdown",
   "metadata": {},
   "source": [
    "- Before we answer this question, let's explore and visualize different types of trips "
   ]
  },
  {
   "cell_type": "code",
   "execution_count": 189,
   "metadata": {},
   "outputs": [],
   "source": [
    "%%bigquery all_trip_freq\n",
    "SELECT start_station_name, end_station_name, count(*) as all_trip_freq \n",
    "FROM `bigquery-public-data.san_francisco.bikeshare_trips` \n",
    "GROUP BY start_station_name, end_station_name ORDER BY all_trip_freq DESC LIMIT 20"
   ]
  },
  {
   "cell_type": "code",
   "execution_count": 190,
   "metadata": {},
   "outputs": [
    {
     "data": {
      "text/html": [
       "<div>\n",
       "<style scoped>\n",
       "    .dataframe tbody tr th:only-of-type {\n",
       "        vertical-align: middle;\n",
       "    }\n",
       "\n",
       "    .dataframe tbody tr th {\n",
       "        vertical-align: top;\n",
       "    }\n",
       "\n",
       "    .dataframe thead th {\n",
       "        text-align: right;\n",
       "    }\n",
       "</style>\n",
       "<table border=\"1\" class=\"dataframe\">\n",
       "  <thead>\n",
       "    <tr style=\"text-align: right;\">\n",
       "      <th></th>\n",
       "      <th>start_station_name</th>\n",
       "      <th>end_station_name</th>\n",
       "      <th>all_trip_freq</th>\n",
       "    </tr>\n",
       "  </thead>\n",
       "  <tbody>\n",
       "    <tr>\n",
       "      <th>0</th>\n",
       "      <td>Harry Bridges Plaza (Ferry Building)</td>\n",
       "      <td>Embarcadero at Sansome</td>\n",
       "      <td>9150</td>\n",
       "    </tr>\n",
       "    <tr>\n",
       "      <th>1</th>\n",
       "      <td>San Francisco Caltrain 2 (330 Townsend)</td>\n",
       "      <td>Townsend at 7th</td>\n",
       "      <td>8508</td>\n",
       "    </tr>\n",
       "    <tr>\n",
       "      <th>2</th>\n",
       "      <td>2nd at Townsend</td>\n",
       "      <td>Harry Bridges Plaza (Ferry Building)</td>\n",
       "      <td>7620</td>\n",
       "    </tr>\n",
       "    <tr>\n",
       "      <th>3</th>\n",
       "      <td>Harry Bridges Plaza (Ferry Building)</td>\n",
       "      <td>2nd at Townsend</td>\n",
       "      <td>6888</td>\n",
       "    </tr>\n",
       "    <tr>\n",
       "      <th>4</th>\n",
       "      <td>Embarcadero at Sansome</td>\n",
       "      <td>Steuart at Market</td>\n",
       "      <td>6874</td>\n",
       "    </tr>\n",
       "  </tbody>\n",
       "</table>\n",
       "</div>"
      ],
      "text/plain": [
       "                        start_station_name  \\\n",
       "0     Harry Bridges Plaza (Ferry Building)   \n",
       "1  San Francisco Caltrain 2 (330 Townsend)   \n",
       "2                          2nd at Townsend   \n",
       "3     Harry Bridges Plaza (Ferry Building)   \n",
       "4                   Embarcadero at Sansome   \n",
       "\n",
       "                       end_station_name  all_trip_freq  \n",
       "0                Embarcadero at Sansome           9150  \n",
       "1                       Townsend at 7th           8508  \n",
       "2  Harry Bridges Plaza (Ferry Building)           7620  \n",
       "3                       2nd at Townsend           6888  \n",
       "4                     Steuart at Market           6874  "
      ]
     },
     "execution_count": 190,
     "metadata": {},
     "output_type": "execute_result"
    }
   ],
   "source": [
    "all_trip_freq.head()"
   ]
  },
  {
   "cell_type": "markdown",
   "metadata": {},
   "source": [
    "#### The trip table above shows all the five most popular trip stattion and the frequency. However, this does not give further information as per if all the trips are commuter trips or not.\n",
    "\n",
    "- In order to answer this, let extract rush hours to give us an insight as to what type of trips are commuter trip\n",
    "\n",
    "- Now, lets answer this question:\n",
    "\n",
    "**What are the most busiest hours of the week?**"
   ]
  },
  {
   "cell_type": "code",
   "execution_count": 278,
   "metadata": {},
   "outputs": [],
   "source": [
    "%%bigquery busiest_hour\n",
    "SELECT EXTRACT(HOUR FROM start_date) as Hour, count(EXTRACT(HOUR FROM start_date)) as trip_count_weekday\n",
    "FROM `bigquery-public-data.san_francisco.bikeshare_trips`\n",
    "WHERE EXTRACT(DAYOFWEEK from start_date) IN (2,3,4,5,6) \n",
    "GROUP BY Hour\n",
    "ORDER BY trip_count_weekday DESC"
   ]
  },
  {
   "cell_type": "code",
   "execution_count": 279,
   "metadata": {},
   "outputs": [
    {
     "data": {
      "text/html": [
       "<div>\n",
       "<style scoped>\n",
       "    .dataframe tbody tr th:only-of-type {\n",
       "        vertical-align: middle;\n",
       "    }\n",
       "\n",
       "    .dataframe tbody tr th {\n",
       "        vertical-align: top;\n",
       "    }\n",
       "\n",
       "    .dataframe thead th {\n",
       "        text-align: right;\n",
       "    }\n",
       "</style>\n",
       "<table border=\"1\" class=\"dataframe\">\n",
       "  <thead>\n",
       "    <tr style=\"text-align: right;\">\n",
       "      <th></th>\n",
       "      <th>Hour</th>\n",
       "      <th>trip_count_weekday</th>\n",
       "    </tr>\n",
       "  </thead>\n",
       "  <tbody>\n",
       "    <tr>\n",
       "      <th>0</th>\n",
       "      <td>8</td>\n",
       "      <td>128999</td>\n",
       "    </tr>\n",
       "    <tr>\n",
       "      <th>1</th>\n",
       "      <td>17</td>\n",
       "      <td>118332</td>\n",
       "    </tr>\n",
       "    <tr>\n",
       "      <th>2</th>\n",
       "      <td>9</td>\n",
       "      <td>90264</td>\n",
       "    </tr>\n",
       "    <tr>\n",
       "      <th>3</th>\n",
       "      <td>16</td>\n",
       "      <td>79000</td>\n",
       "    </tr>\n",
       "    <tr>\n",
       "      <th>4</th>\n",
       "      <td>18</td>\n",
       "      <td>78188</td>\n",
       "    </tr>\n",
       "  </tbody>\n",
       "</table>\n",
       "</div>"
      ],
      "text/plain": [
       "   Hour  trip_count_weekday\n",
       "0     8              128999\n",
       "1    17              118332\n",
       "2     9               90264\n",
       "3    16               79000\n",
       "4    18               78188"
      ]
     },
     "execution_count": 279,
     "metadata": {},
     "output_type": "execute_result"
    }
   ],
   "source": [
    "busiest_hour.head()"
   ]
  },
  {
   "cell_type": "code",
   "execution_count": 280,
   "metadata": {},
   "outputs": [],
   "source": [
    "%%bigquery busiest_hour_allday\n",
    "SELECT EXTRACT(HOUR FROM start_date) as Hour, count(EXTRACT(HOUR FROM start_date)) as trip_count_all\n",
    "FROM `bigquery-public-data.san_francisco.bikeshare_trips`\n",
    "GROUP BY Hour\n",
    "ORDER BY trip_count_all DESC"
   ]
  },
  {
   "cell_type": "code",
   "execution_count": 281,
   "metadata": {},
   "outputs": [
    {
     "data": {
      "text/html": [
       "<div>\n",
       "<style scoped>\n",
       "    .dataframe tbody tr th:only-of-type {\n",
       "        vertical-align: middle;\n",
       "    }\n",
       "\n",
       "    .dataframe tbody tr th {\n",
       "        vertical-align: top;\n",
       "    }\n",
       "\n",
       "    .dataframe thead th {\n",
       "        text-align: right;\n",
       "    }\n",
       "</style>\n",
       "<table border=\"1\" class=\"dataframe\">\n",
       "  <thead>\n",
       "    <tr style=\"text-align: right;\">\n",
       "      <th></th>\n",
       "      <th>Hour</th>\n",
       "      <th>trip_count_all</th>\n",
       "    </tr>\n",
       "  </thead>\n",
       "  <tbody>\n",
       "    <tr>\n",
       "      <th>0</th>\n",
       "      <td>8</td>\n",
       "      <td>132464</td>\n",
       "    </tr>\n",
       "    <tr>\n",
       "      <th>1</th>\n",
       "      <td>17</td>\n",
       "      <td>126302</td>\n",
       "    </tr>\n",
       "    <tr>\n",
       "      <th>2</th>\n",
       "      <td>9</td>\n",
       "      <td>96118</td>\n",
       "    </tr>\n",
       "    <tr>\n",
       "      <th>3</th>\n",
       "      <td>16</td>\n",
       "      <td>88755</td>\n",
       "    </tr>\n",
       "    <tr>\n",
       "      <th>4</th>\n",
       "      <td>18</td>\n",
       "      <td>84569</td>\n",
       "    </tr>\n",
       "  </tbody>\n",
       "</table>\n",
       "</div>"
      ],
      "text/plain": [
       "   Hour  trip_count_all\n",
       "0     8          132464\n",
       "1    17          126302\n",
       "2     9           96118\n",
       "3    16           88755\n",
       "4    18           84569"
      ]
     },
     "execution_count": 281,
     "metadata": {},
     "output_type": "execute_result"
    }
   ],
   "source": [
    "busiest_hour_allday.head()"
   ]
  },
  {
   "cell_type": "markdown",
   "metadata": {},
   "source": [
    "**The plot below compared the busiest trip time(hours) and counts for 7-day a week vs weekdays(Mon - Friday). Looking at both plots, they seemed to share common rush hours which is somewhere between 6 -10 in the morning and between 16 - 18 in the evening. Therefore, to get a true commuter trips, we need to consider only the trip for weekdays(Mon - Fri) and hours (6-10 & 16-8), this enables us to filter out commuters as chances are that there might be other users who are not commuters for example. GoBike technicians and maintenance team etc.**"
   ]
  },
  {
   "cell_type": "code",
   "execution_count": 286,
   "metadata": {},
   "outputs": [
    {
     "data": {
      "text/plain": [
       "<Figure size 864x648 with 0 Axes>"
      ]
     },
     "metadata": {},
     "output_type": "display_data"
    },
    {
     "data": {
      "image/png": "[encoded data removed]",
      "text/plain": [
       "<Figure size 360x360 with 1 Axes>"
      ]
     },
     "metadata": {},
     "output_type": "display_data"
    },
    {
     "data": {
      "image/png": "[encoded data removed]",
      "text/plain": [
       "<Figure size 360x360 with 1 Axes>"
      ]
     },
     "metadata": {},
     "output_type": "display_data"
    }
   ],
   "source": [
    "plt.figure(figsize=(12,9)) \n",
    "sns.relplot(x='Hour',y='trip_count_weekday',data=busiest_hour, kind=\"line\")\n",
    "sns.relplot(x='Hour',y='trip_count_all',data=busiest_hour_allday, kind=\"line\")\n",
    "pass"
   ]
  },
  {
   "cell_type": "markdown",
   "metadata": {},
   "source": [
    "#### Finally, this led us into 5 most popular trips to identify commuter trips below. Obviously, high surge in rush hour like 8,9,16,17,18 is an evidence that those are commuters."
   ]
  },
  {
   "cell_type": "code",
   "execution_count": 294,
   "metadata": {},
   "outputs": [],
   "source": [
    "%%bigquery commuter_trip\n",
    "SELECT count(trip_id) as trip_freq ,start_station_name, end_station_name,\n",
    "FROM `bigquery-public-data.san_francisco.bikeshare_trips` \n",
    "WHERE EXTRACT(DAYOFWEEK from start_date) IN (2,3,4,5,6) AND EXTRACT(HOUR from start_date) IN (6,7,8,9,10,16,17,18,19)\n",
    "GROUP BY start_station_name, end_station_name ORDER BY trip_freq DESC LIMIT 5"
   ]
  },
  {
   "cell_type": "code",
   "execution_count": 295,
   "metadata": {},
   "outputs": [
    {
     "data": {
      "text/html": [
       "<div>\n",
       "<style scoped>\n",
       "    .dataframe tbody tr th:only-of-type {\n",
       "        vertical-align: middle;\n",
       "    }\n",
       "\n",
       "    .dataframe tbody tr th {\n",
       "        vertical-align: top;\n",
       "    }\n",
       "\n",
       "    .dataframe thead th {\n",
       "        text-align: right;\n",
       "    }\n",
       "</style>\n",
       "<table border=\"1\" class=\"dataframe\">\n",
       "  <thead>\n",
       "    <tr style=\"text-align: right;\">\n",
       "      <th></th>\n",
       "      <th>trip_freq</th>\n",
       "      <th>start_station_name</th>\n",
       "      <th>end_station_name</th>\n",
       "    </tr>\n",
       "  </thead>\n",
       "  <tbody>\n",
       "    <tr>\n",
       "      <th>0</th>\n",
       "      <td>6352</td>\n",
       "      <td>San Francisco Caltrain 2 (330 Townsend)</td>\n",
       "      <td>Townsend at 7th</td>\n",
       "    </tr>\n",
       "    <tr>\n",
       "      <th>1</th>\n",
       "      <td>5647</td>\n",
       "      <td>Harry Bridges Plaza (Ferry Building)</td>\n",
       "      <td>2nd at Townsend</td>\n",
       "    </tr>\n",
       "    <tr>\n",
       "      <th>2</th>\n",
       "      <td>5454</td>\n",
       "      <td>2nd at Townsend</td>\n",
       "      <td>Harry Bridges Plaza (Ferry Building)</td>\n",
       "    </tr>\n",
       "    <tr>\n",
       "      <th>3</th>\n",
       "      <td>5218</td>\n",
       "      <td>Embarcadero at Sansome</td>\n",
       "      <td>Steuart at Market</td>\n",
       "    </tr>\n",
       "    <tr>\n",
       "      <th>4</th>\n",
       "      <td>5192</td>\n",
       "      <td>San Francisco Caltrain (Townsend at 4th)</td>\n",
       "      <td>Harry Bridges Plaza (Ferry Building)</td>\n",
       "    </tr>\n",
       "  </tbody>\n",
       "</table>\n",
       "</div>"
      ],
      "text/plain": [
       "   trip_freq                        start_station_name  \\\n",
       "0       6352   San Francisco Caltrain 2 (330 Townsend)   \n",
       "1       5647      Harry Bridges Plaza (Ferry Building)   \n",
       "2       5454                           2nd at Townsend   \n",
       "3       5218                    Embarcadero at Sansome   \n",
       "4       5192  San Francisco Caltrain (Townsend at 4th)   \n",
       "\n",
       "                       end_station_name  \n",
       "0                       Townsend at 7th  \n",
       "1                       2nd at Townsend  \n",
       "2  Harry Bridges Plaza (Ferry Building)  \n",
       "3                     Steuart at Market  \n",
       "4  Harry Bridges Plaza (Ferry Building)  "
      ]
     },
     "execution_count": 295,
     "metadata": {},
     "output_type": "execute_result"
    }
   ],
   "source": [
    "commuter_trip"
   ]
  },
  {
   "cell_type": "code",
   "execution_count": null,
   "metadata": {},
   "outputs": [],
   "source": []
  },
  {
   "cell_type": "markdown",
   "metadata": {},
   "source": [
    "### **Second project Question**"
   ]
  },
  {
   "cell_type": "markdown",
   "metadata": {},
   "source": [
    "### **What are your recommendations for offers (justify based on your findings)?**\n",
    "\n",
    "**Before we make recommendations. let's look at the current [GoBike Pricing]('https://www.lyft.com/bikes/bay-wheels/pricing')**\n"
   ]
  },
  {
   "cell_type": "markdown",
   "metadata": {},
   "source": [
    "### Summary of GoBike current offering:\n",
    "\n",
    "- Annual Membership: 149.00 per annum. Free for the first 45 mins ride and 3.00 per 15 mins after\n",
    "        \n",
    "-  Monthly Membership:15.00 per month. Free for the first 45 mins ride and 3.00 per 15 mins after\n",
    "        \n",
    "- Single Ride: 2.00 for the first 30 mins and 3.00 per 15 mins after.\n",
    "        \n",
    "- Access Pass: 10.00 per day for the first 30 ride and 3.00 per 15 mins after.(but you bike station by station to save cost)\n",
    "    \n",
    "- Ebiking: Members pay 0.15/minute\n",
    "  - Non-members pay 0.20/minute\n",
    "  - Bike Share for All Members pay 0.05/minute with a cap of 1\n",
    "  - Dock at any Bay Wheels station for free or use the cable to lock to a bike rack within the service area for 2. \n",
    "  - This charge will be waived if you park near a station that has no empty docks or park in part of the service area without stations. \n",
    "  - Always lock responsibly.This new pricing applies to ebike rides in San Francisco"
   ]
  },
  {
   "cell_type": "markdown",
   "metadata": {},
   "source": [
    "**We begin by filtering the commutes that are within 30 mins** "
   ]
  },
  {
   "cell_type": "code",
   "execution_count": 300,
   "metadata": {},
   "outputs": [],
   "source": [
    "%%bigquery trip_time\n",
    "SELECT (duration_sec/60), bike_number,start_station_id,end_station_id,subscriber_type \n",
    "FROM `bigquery-public-data.san_francisco.bikeshare_trips`\n",
    "WHERE (duration_sec/60)\n",
    "ORDER BY duration_sec ASC"
   ]
  },
  {
   "cell_type": "code",
   "execution_count": 301,
   "metadata": {},
   "outputs": [
    {
     "data": {
      "text/html": [
       "<div>\n",
       "<style scoped>\n",
       "    .dataframe tbody tr th:only-of-type {\n",
       "        vertical-align: middle;\n",
       "    }\n",
       "\n",
       "    .dataframe tbody tr th {\n",
       "        vertical-align: top;\n",
       "    }\n",
       "\n",
       "    .dataframe thead th {\n",
       "        text-align: right;\n",
       "    }\n",
       "</style>\n",
       "<table border=\"1\" class=\"dataframe\">\n",
       "  <thead>\n",
       "    <tr style=\"text-align: right;\">\n",
       "      <th></th>\n",
       "      <th>f0_</th>\n",
       "      <th>bike_number</th>\n",
       "      <th>start_station_id</th>\n",
       "      <th>end_station_id</th>\n",
       "      <th>subscriber_type</th>\n",
       "    </tr>\n",
       "  </thead>\n",
       "  <tbody>\n",
       "    <tr>\n",
       "      <th>0</th>\n",
       "      <td>1.0</td>\n",
       "      <td>35</td>\n",
       "      <td>83</td>\n",
       "      <td>83</td>\n",
       "      <td>Subscriber</td>\n",
       "    </tr>\n",
       "    <tr>\n",
       "      <th>1</th>\n",
       "      <td>1.0</td>\n",
       "      <td>382</td>\n",
       "      <td>63</td>\n",
       "      <td>63</td>\n",
       "      <td>Customer</td>\n",
       "    </tr>\n",
       "    <tr>\n",
       "      <th>2</th>\n",
       "      <td>1.0</td>\n",
       "      <td>238</td>\n",
       "      <td>63</td>\n",
       "      <td>63</td>\n",
       "      <td>Subscriber</td>\n",
       "    </tr>\n",
       "    <tr>\n",
       "      <th>3</th>\n",
       "      <td>1.0</td>\n",
       "      <td>500</td>\n",
       "      <td>76</td>\n",
       "      <td>76</td>\n",
       "      <td>Subscriber</td>\n",
       "    </tr>\n",
       "    <tr>\n",
       "      <th>4</th>\n",
       "      <td>1.0</td>\n",
       "      <td>372</td>\n",
       "      <td>67</td>\n",
       "      <td>67</td>\n",
       "      <td>Subscriber</td>\n",
       "    </tr>\n",
       "  </tbody>\n",
       "</table>\n",
       "</div>"
      ],
      "text/plain": [
       "   f0_  bike_number  start_station_id  end_station_id subscriber_type\n",
       "0  1.0           35                83              83      Subscriber\n",
       "1  1.0          382                63              63        Customer\n",
       "2  1.0          238                63              63      Subscriber\n",
       "3  1.0          500                76              76      Subscriber\n",
       "4  1.0          372                67              67      Subscriber"
      ]
     },
     "execution_count": 301,
     "metadata": {},
     "output_type": "execute_result"
    }
   ],
   "source": [
    "trip_time.head()"
   ]
  },
  {
   "cell_type": "code",
   "execution_count": 325,
   "metadata": {},
   "outputs": [],
   "source": [
    "%%bigquery trip_hr\n",
    "\n",
    "SELECT EXTRACT(HOUR FROM start_date) AS HR_of_day, duration_sec,(duration_sec/60) as duration_5mins_60mins,start_station_name,end_station_name,subscriber_type\n",
    "FROM `bigquery-public-data.san_francisco.bikeshare_trips`\n",
    "WHERE ((EXTRACT(HOUR FROM start_date) IN (6,7,8,9)) OR (EXTRACT(HOUR FROM start_date) IN (15,16,17,18))) AND ((duration_sec/60) >= 5 AND (duration_sec/60) <= 60)\n",
    "ORDER BY (duration_sec/60) DESC"
   ]
  },
  {
   "cell_type": "code",
   "execution_count": 326,
   "metadata": {},
   "outputs": [
    {
     "data": {
      "text/html": [
       "<div>\n",
       "<style scoped>\n",
       "    .dataframe tbody tr th:only-of-type {\n",
       "        vertical-align: middle;\n",
       "    }\n",
       "\n",
       "    .dataframe tbody tr th {\n",
       "        vertical-align: top;\n",
       "    }\n",
       "\n",
       "    .dataframe thead th {\n",
       "        text-align: right;\n",
       "    }\n",
       "</style>\n",
       "<table border=\"1\" class=\"dataframe\">\n",
       "  <thead>\n",
       "    <tr style=\"text-align: right;\">\n",
       "      <th></th>\n",
       "      <th>HR_of_day</th>\n",
       "      <th>duration_sec</th>\n",
       "      <th>duration_5mins_60mins</th>\n",
       "      <th>start_station_name</th>\n",
       "      <th>end_station_name</th>\n",
       "      <th>subscriber_type</th>\n",
       "    </tr>\n",
       "  </thead>\n",
       "  <tbody>\n",
       "    <tr>\n",
       "      <th>0</th>\n",
       "      <td>15</td>\n",
       "      <td>3600</td>\n",
       "      <td>60.000000</td>\n",
       "      <td>Mechanics Plaza (Market at Battery)</td>\n",
       "      <td>Embarcadero at Vallejo</td>\n",
       "      <td>Customer</td>\n",
       "    </tr>\n",
       "    <tr>\n",
       "      <th>1</th>\n",
       "      <td>16</td>\n",
       "      <td>3600</td>\n",
       "      <td>60.000000</td>\n",
       "      <td>2nd at Townsend</td>\n",
       "      <td>Grant Avenue at Columbus Avenue</td>\n",
       "      <td>Customer</td>\n",
       "    </tr>\n",
       "    <tr>\n",
       "      <th>2</th>\n",
       "      <td>9</td>\n",
       "      <td>3600</td>\n",
       "      <td>60.000000</td>\n",
       "      <td>San Francisco Caltrain (Townsend at 4th)</td>\n",
       "      <td>Mechanics Plaza (Market at Battery)</td>\n",
       "      <td>Subscriber</td>\n",
       "    </tr>\n",
       "    <tr>\n",
       "      <th>3</th>\n",
       "      <td>15</td>\n",
       "      <td>3599</td>\n",
       "      <td>59.983333</td>\n",
       "      <td>Embarcadero at Sansome</td>\n",
       "      <td>Grant Avenue at Columbus Avenue</td>\n",
       "      <td>Customer</td>\n",
       "    </tr>\n",
       "    <tr>\n",
       "      <th>4</th>\n",
       "      <td>15</td>\n",
       "      <td>3599</td>\n",
       "      <td>59.983333</td>\n",
       "      <td>Grant Avenue at Columbus Avenue</td>\n",
       "      <td>Grant Avenue at Columbus Avenue</td>\n",
       "      <td>Customer</td>\n",
       "    </tr>\n",
       "  </tbody>\n",
       "</table>\n",
       "</div>"
      ],
      "text/plain": [
       "   HR_of_day  duration_sec  duration_5mins_60mins  \\\n",
       "0         15          3600              60.000000   \n",
       "1         16          3600              60.000000   \n",
       "2          9          3600              60.000000   \n",
       "3         15          3599              59.983333   \n",
       "4         15          3599              59.983333   \n",
       "\n",
       "                         start_station_name  \\\n",
       "0       Mechanics Plaza (Market at Battery)   \n",
       "1                           2nd at Townsend   \n",
       "2  San Francisco Caltrain (Townsend at 4th)   \n",
       "3                    Embarcadero at Sansome   \n",
       "4           Grant Avenue at Columbus Avenue   \n",
       "\n",
       "                      end_station_name subscriber_type  \n",
       "0               Embarcadero at Vallejo        Customer  \n",
       "1      Grant Avenue at Columbus Avenue        Customer  \n",
       "2  Mechanics Plaza (Market at Battery)      Subscriber  \n",
       "3      Grant Avenue at Columbus Avenue        Customer  \n",
       "4      Grant Avenue at Columbus Avenue        Customer  "
      ]
     },
     "execution_count": 326,
     "metadata": {},
     "output_type": "execute_result"
    }
   ],
   "source": [
    "trip_hr.head()"
   ]
  },
  {
   "cell_type": "code",
   "execution_count": null,
   "metadata": {},
   "outputs": [],
   "source": [
    "trip_hr.plot(kind='bar')"
   ]
  },
  {
   "cell_type": "code",
   "execution_count": 105,
   "metadata": {},
   "outputs": [],
   "source": [
    "%%bigquery week_days_cummuters\n",
    "SELECT EXTRACT(HOUR from start_date) AS hour, EXTRACT(DAYOFWEEK from start_date) as weekday,start_station_name, end_station_name,duration_sec,subscriber_type,\n",
    "COUNT(*) as frequency \n",
    "FROM `bigquery-public-data.san_francisco.bikeshare_trips`\n",
    "WHERE EXTRACT(DAYOFWEEK from start_date) IN (2,3,4,5,6) AND EXTRACT(HOUR from start_date) IN (6,7,8,9,16,17,18,19) \n",
    "GROUP BY start_station_name,subscriber_type, end_station_name,duration_sec,hour,weekday ORDER BY frequency DESC LIMIT 5"
   ]
  },
  {
   "cell_type": "code",
   "execution_count": null,
   "metadata": {},
   "outputs": [],
   "source": []
  },
  {
   "cell_type": "code",
   "execution_count": 106,
   "metadata": {},
   "outputs": [
    {
     "data": {
      "text/html": [
       "<div>\n",
       "<style scoped>\n",
       "    .dataframe tbody tr th:only-of-type {\n",
       "        vertical-align: middle;\n",
       "    }\n",
       "\n",
       "    .dataframe tbody tr th {\n",
       "        vertical-align: top;\n",
       "    }\n",
       "\n",
       "    .dataframe thead th {\n",
       "        text-align: right;\n",
       "    }\n",
       "</style>\n",
       "<table border=\"1\" class=\"dataframe\">\n",
       "  <thead>\n",
       "    <tr style=\"text-align: right;\">\n",
       "      <th></th>\n",
       "      <th>hour</th>\n",
       "      <th>weekday</th>\n",
       "      <th>start_station_name</th>\n",
       "      <th>end_station_name</th>\n",
       "      <th>duration_sec</th>\n",
       "      <th>subscriber_type</th>\n",
       "      <th>frequency</th>\n",
       "    </tr>\n",
       "  </thead>\n",
       "  <tbody>\n",
       "    <tr>\n",
       "      <th>0</th>\n",
       "      <td>8</td>\n",
       "      <td>3</td>\n",
       "      <td>Harry Bridges Plaza (Ferry Building)</td>\n",
       "      <td>2nd at Townsend</td>\n",
       "      <td>466</td>\n",
       "      <td>Subscriber</td>\n",
       "      <td>12</td>\n",
       "    </tr>\n",
       "    <tr>\n",
       "      <th>1</th>\n",
       "      <td>9</td>\n",
       "      <td>2</td>\n",
       "      <td>San Francisco Caltrain 2 (330 Townsend)</td>\n",
       "      <td>Townsend at 7th</td>\n",
       "      <td>248</td>\n",
       "      <td>Subscriber</td>\n",
       "      <td>10</td>\n",
       "    </tr>\n",
       "    <tr>\n",
       "      <th>2</th>\n",
       "      <td>8</td>\n",
       "      <td>4</td>\n",
       "      <td>Harry Bridges Plaza (Ferry Building)</td>\n",
       "      <td>2nd at Townsend</td>\n",
       "      <td>455</td>\n",
       "      <td>Subscriber</td>\n",
       "      <td>9</td>\n",
       "    </tr>\n",
       "    <tr>\n",
       "      <th>3</th>\n",
       "      <td>8</td>\n",
       "      <td>2</td>\n",
       "      <td>Harry Bridges Plaza (Ferry Building)</td>\n",
       "      <td>2nd at Townsend</td>\n",
       "      <td>485</td>\n",
       "      <td>Subscriber</td>\n",
       "      <td>9</td>\n",
       "    </tr>\n",
       "    <tr>\n",
       "      <th>4</th>\n",
       "      <td>8</td>\n",
       "      <td>4</td>\n",
       "      <td>Harry Bridges Plaza (Ferry Building)</td>\n",
       "      <td>2nd at Townsend</td>\n",
       "      <td>481</td>\n",
       "      <td>Subscriber</td>\n",
       "      <td>9</td>\n",
       "    </tr>\n",
       "  </tbody>\n",
       "</table>\n",
       "</div>"
      ],
      "text/plain": [
       "   hour  weekday                       start_station_name end_station_name  \\\n",
       "0     8        3     Harry Bridges Plaza (Ferry Building)  2nd at Townsend   \n",
       "1     9        2  San Francisco Caltrain 2 (330 Townsend)  Townsend at 7th   \n",
       "2     8        4     Harry Bridges Plaza (Ferry Building)  2nd at Townsend   \n",
       "3     8        2     Harry Bridges Plaza (Ferry Building)  2nd at Townsend   \n",
       "4     8        4     Harry Bridges Plaza (Ferry Building)  2nd at Townsend   \n",
       "\n",
       "   duration_sec subscriber_type  frequency  \n",
       "0           466      Subscriber         12  \n",
       "1           248      Subscriber         10  \n",
       "2           455      Subscriber          9  \n",
       "3           485      Subscriber          9  \n",
       "4           481      Subscriber          9  "
      ]
     },
     "execution_count": 106,
     "metadata": {},
     "output_type": "execute_result"
    }
   ],
   "source": [
    "week_days_cummuters"
   ]
  },
  {
   "cell_type": "code",
   "execution_count": 122,
   "metadata": {},
   "outputs": [],
   "source": [
    " %%bigquery week_days\n",
    "SELECT EXTRACT(HOUR FROM start_date) AS HR, EXTRACT(MINUTE FROM start_date) AS MIN,duration_sec, start_date, end_date, start_station_name,end_station_name\n",
    "FROM `bigquery-public-data.san_francisco.bikeshare_trips`\n",
    "WHERE ((EXTRACT(HOUR FROM start_date) IN (6,7,8)) OR (EXTRACT(HOUR FROM start_date) IN (16,17,18,19))) AND (duration_sec >= 300 AND duration_sec <= 3600)\n",
    "ORDER BY duration_sec DESC LIMIT 5"
   ]
  },
  {
   "cell_type": "code",
   "execution_count": 104,
   "metadata": {},
   "outputs": [
    {
     "data": {
      "text/html": [
       "<div>\n",
       "<style scoped>\n",
       "    .dataframe tbody tr th:only-of-type {\n",
       "        vertical-align: middle;\n",
       "    }\n",
       "\n",
       "    .dataframe tbody tr th {\n",
       "        vertical-align: top;\n",
       "    }\n",
       "\n",
       "    .dataframe thead th {\n",
       "        text-align: right;\n",
       "    }\n",
       "</style>\n",
       "<table border=\"1\" class=\"dataframe\">\n",
       "  <thead>\n",
       "    <tr style=\"text-align: right;\">\n",
       "      <th></th>\n",
       "      <th>HR</th>\n",
       "      <th>MIN</th>\n",
       "      <th>duration_sec</th>\n",
       "      <th>start_date</th>\n",
       "      <th>end_date</th>\n",
       "      <th>start_station_name</th>\n",
       "      <th>end_station_name</th>\n",
       "    </tr>\n",
       "  </thead>\n",
       "  <tbody>\n",
       "    <tr>\n",
       "      <th>0</th>\n",
       "      <td>16</td>\n",
       "      <td>18</td>\n",
       "      <td>3600</td>\n",
       "      <td>2014-04-19 16:18:00+00:00</td>\n",
       "      <td>2014-04-19 17:18:00+00:00</td>\n",
       "      <td>2nd at Townsend</td>\n",
       "      <td>Grant Avenue at Columbus Avenue</td>\n",
       "    </tr>\n",
       "    <tr>\n",
       "      <th>1</th>\n",
       "      <td>16</td>\n",
       "      <td>4</td>\n",
       "      <td>3598</td>\n",
       "      <td>2014-04-07 16:04:00+00:00</td>\n",
       "      <td>2014-04-07 17:04:00+00:00</td>\n",
       "      <td>Embarcadero at Sansome</td>\n",
       "      <td>Powell Street BART</td>\n",
       "    </tr>\n",
       "    <tr>\n",
       "      <th>2</th>\n",
       "      <td>16</td>\n",
       "      <td>41</td>\n",
       "      <td>3598</td>\n",
       "      <td>2016-03-24 16:41:00+00:00</td>\n",
       "      <td>2016-03-24 17:41:00+00:00</td>\n",
       "      <td>San Salvador at 1st</td>\n",
       "      <td>San Salvador at 1st</td>\n",
       "    </tr>\n",
       "    <tr>\n",
       "      <th>3</th>\n",
       "      <td>17</td>\n",
       "      <td>15</td>\n",
       "      <td>3596</td>\n",
       "      <td>2015-05-16 17:15:00+00:00</td>\n",
       "      <td>2015-05-16 18:15:00+00:00</td>\n",
       "      <td>Powell at Post (Union Square)</td>\n",
       "      <td>Powell at Post (Union Square)</td>\n",
       "    </tr>\n",
       "    <tr>\n",
       "      <th>4</th>\n",
       "      <td>16</td>\n",
       "      <td>0</td>\n",
       "      <td>3595</td>\n",
       "      <td>2016-05-05 16:00:00+00:00</td>\n",
       "      <td>2016-05-05 17:00:00+00:00</td>\n",
       "      <td>2nd at Townsend</td>\n",
       "      <td>2nd at Townsend</td>\n",
       "    </tr>\n",
       "  </tbody>\n",
       "</table>\n",
       "</div>"
      ],
      "text/plain": [
       "   HR  MIN  duration_sec                start_date                  end_date  \\\n",
       "0  16   18          3600 2014-04-19 16:18:00+00:00 2014-04-19 17:18:00+00:00   \n",
       "1  16    4          3598 2014-04-07 16:04:00+00:00 2014-04-07 17:04:00+00:00   \n",
       "2  16   41          3598 2016-03-24 16:41:00+00:00 2016-03-24 17:41:00+00:00   \n",
       "3  17   15          3596 2015-05-16 17:15:00+00:00 2015-05-16 18:15:00+00:00   \n",
       "4  16    0          3595 2016-05-05 16:00:00+00:00 2016-05-05 17:00:00+00:00   \n",
       "\n",
       "              start_station_name                 end_station_name  \n",
       "0                2nd at Townsend  Grant Avenue at Columbus Avenue  \n",
       "1         Embarcadero at Sansome               Powell Street BART  \n",
       "2            San Salvador at 1st              San Salvador at 1st  \n",
       "3  Powell at Post (Union Square)    Powell at Post (Union Square)  \n",
       "4                2nd at Townsend                  2nd at Townsend  "
      ]
     },
     "execution_count": 104,
     "metadata": {},
     "output_type": "execute_result"
    }
   ],
   "source": [
    "week_days"
   ]
  },
  {
   "cell_type": "code",
   "execution_count": 161,
   "metadata": {},
   "outputs": [],
   "source": [
    "\n",
    "%%bigquery commuter_trip\n",
    "SELECT EXTRACT(HOUR from start_date) AS hour, EXTRACT(DAYOFWEEK from start_date) as weekday,start_station_name,end_station_name,duration_sec,subscriber_type, COUNT(trip_id) as frequency,\n",
    "FROM `bigquery-public-data.san_francisco.bikeshare_trips`\n",
    "WHERE EXTRACT(DAYOFWEEK from start_date) IN (2,3,4,5,6) AND EXTRACT(HOUR from start_date) IN (6,7,8,9,16,17,18,19)\n",
    "GROUP BY start_station_name,subscriber_type, end_station_name,duration_sec,hour,weekday\n",
    "ORDER BY frequency DESC LIMIT 5"
   ]
  },
  {
   "cell_type": "code",
   "execution_count": 162,
   "metadata": {},
   "outputs": [
    {
     "data": {
      "text/html": [
       "<div>\n",
       "<style scoped>\n",
       "    .dataframe tbody tr th:only-of-type {\n",
       "        vertical-align: middle;\n",
       "    }\n",
       "\n",
       "    .dataframe tbody tr th {\n",
       "        vertical-align: top;\n",
       "    }\n",
       "\n",
       "    .dataframe thead th {\n",
       "        text-align: right;\n",
       "    }\n",
       "</style>\n",
       "<table border=\"1\" class=\"dataframe\">\n",
       "  <thead>\n",
       "    <tr style=\"text-align: right;\">\n",
       "      <th></th>\n",
       "      <th>hour</th>\n",
       "      <th>weekday</th>\n",
       "      <th>start_station_name</th>\n",
       "      <th>end_station_name</th>\n",
       "      <th>duration_sec</th>\n",
       "      <th>subscriber_type</th>\n",
       "      <th>frequency</th>\n",
       "    </tr>\n",
       "  </thead>\n",
       "  <tbody>\n",
       "    <tr>\n",
       "      <th>0</th>\n",
       "      <td>8</td>\n",
       "      <td>3</td>\n",
       "      <td>Harry Bridges Plaza (Ferry Building)</td>\n",
       "      <td>2nd at Townsend</td>\n",
       "      <td>466</td>\n",
       "      <td>Subscriber</td>\n",
       "      <td>12</td>\n",
       "    </tr>\n",
       "    <tr>\n",
       "      <th>1</th>\n",
       "      <td>9</td>\n",
       "      <td>2</td>\n",
       "      <td>San Francisco Caltrain 2 (330 Townsend)</td>\n",
       "      <td>Townsend at 7th</td>\n",
       "      <td>248</td>\n",
       "      <td>Subscriber</td>\n",
       "      <td>10</td>\n",
       "    </tr>\n",
       "    <tr>\n",
       "      <th>2</th>\n",
       "      <td>8</td>\n",
       "      <td>4</td>\n",
       "      <td>Harry Bridges Plaza (Ferry Building)</td>\n",
       "      <td>2nd at Townsend</td>\n",
       "      <td>455</td>\n",
       "      <td>Subscriber</td>\n",
       "      <td>9</td>\n",
       "    </tr>\n",
       "    <tr>\n",
       "      <th>3</th>\n",
       "      <td>8</td>\n",
       "      <td>2</td>\n",
       "      <td>Harry Bridges Plaza (Ferry Building)</td>\n",
       "      <td>2nd at Townsend</td>\n",
       "      <td>485</td>\n",
       "      <td>Subscriber</td>\n",
       "      <td>9</td>\n",
       "    </tr>\n",
       "    <tr>\n",
       "      <th>4</th>\n",
       "      <td>8</td>\n",
       "      <td>4</td>\n",
       "      <td>Harry Bridges Plaza (Ferry Building)</td>\n",
       "      <td>2nd at Townsend</td>\n",
       "      <td>481</td>\n",
       "      <td>Subscriber</td>\n",
       "      <td>9</td>\n",
       "    </tr>\n",
       "  </tbody>\n",
       "</table>\n",
       "</div>"
      ],
      "text/plain": [
       "   hour  weekday                       start_station_name end_station_name  \\\n",
       "0     8        3     Harry Bridges Plaza (Ferry Building)  2nd at Townsend   \n",
       "1     9        2  San Francisco Caltrain 2 (330 Townsend)  Townsend at 7th   \n",
       "2     8        4     Harry Bridges Plaza (Ferry Building)  2nd at Townsend   \n",
       "3     8        2     Harry Bridges Plaza (Ferry Building)  2nd at Townsend   \n",
       "4     8        4     Harry Bridges Plaza (Ferry Building)  2nd at Townsend   \n",
       "\n",
       "   duration_sec subscriber_type  frequency  \n",
       "0           466      Subscriber         12  \n",
       "1           248      Subscriber         10  \n",
       "2           455      Subscriber          9  \n",
       "3           485      Subscriber          9  \n",
       "4           481      Subscriber          9  "
      ]
     },
     "execution_count": 162,
     "metadata": {},
     "output_type": "execute_result"
    }
   ],
   "source": [
    "commuter_trip"
   ]
  },
  {
   "cell_type": "code",
   "execution_count": null,
   "metadata": {},
   "outputs": [],
   "source": []
  },
  {
   "cell_type": "code",
   "execution_count": null,
   "metadata": {},
   "outputs": [],
   "source": [
    "%%bigquery trip_hr\n",
    "\n",
    "SELECT EXTRACT(HOUR FROM start_date) AS HR, EXTRACT(MINUTE FROM start_date) AS MIN, duration_sec,start_station_name,end_station_name\n",
    "FROM `bigquery-public-data.san_francisco.bikeshare_trips`\n",
    "WHERE ((EXTRACT(HOUR FROM start_date) IN (6,7,8,9)) OR (EXTRACT(HOUR FROM start_date) IN (15,16,17,18))) AND (duration_sec >= 300 AND duration_sec <= 3600)\n",
    "ORDER BY duration_sec DESC"
   ]
  },
  {
   "cell_type": "code",
   "execution_count": null,
   "metadata": {},
   "outputs": [],
   "source": []
  },
  {
   "cell_type": "code",
   "execution_count": null,
   "metadata": {},
   "outputs": [],
   "source": []
  }
 ],
 "metadata": {
  "environment": {
   "name": "tf2-gpu.2-1.m46",
   "type": "gcloud",
   "uri": "gcr.io/deeplearning-platform-release/tf2-gpu.2-1:m46"
  },
  "kernelspec": {
   "display_name": "Python 3",
   "language": "python",
   "name": "python3"
  },
  "language_info": {
   "codemirror_mode": {
    "name": "ipython",
    "version": 3
   },
   "file_extension": ".py",
   "mimetype": "text/x-python",
   "name": "python",
   "nbconvert_exporter": "python",
   "pygments_lexer": "ipython3",
   "version": "3.7.6"
  }
 },
 "nbformat": 4,
 "nbformat_minor": 4
}
